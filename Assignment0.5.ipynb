{
  "nbformat": 4,
  "nbformat_minor": 0,
  "metadata": {
    "colab": {
      "provenance": []
    },
    "kernelspec": {
      "name": "python3",
      "display_name": "Python 3"
    },
    "language_info": {
      "name": "python"
    }
  },
  "cells": [
    {
      "cell_type": "markdown",
      "source": [
        "Question 1: What is the difference between descriptive statistics and inferential statistics? Explain with examples.\n"
      ],
      "metadata": {
        "id": "yKn_HRN_pfbz"
      }
    },
    {
      "cell_type": "markdown",
      "source": [
        "=> Suppose you surveyed 50 students about their exam scores and calculated:\n",
        "\n",
        "Average score = 72\n",
        "\n",
        "Highest score = 95\n",
        "\n",
        "Pie chart showing how many students scored in different ranges (50–60, 60–70, etc.)"
      ],
      "metadata": {
        "id": "kodu5roSpiv6"
      }
    },
    {
      "cell_type": "markdown",
      "source": [
        "Question 2: What is sampling in statistics? Explain the differences between random and stratified sampling.\n"
      ],
      "metadata": {
        "id": "UMf5ih3SpoIg"
      }
    },
    {
      "cell_type": "markdown",
      "source": [
        "=> Suppose a school has 1,000 students, and you want to know the average height.\n",
        "Instead of measuring everyone, you select 100 students and use their average to estimate the average height of all."
      ],
      "metadata": {
        "id": "DaXhKZCep39s"
      }
    },
    {
      "cell_type": "markdown",
      "source": [
        "Question 3: Define mean, median, and mode. Explain why these measures of central\n",
        "tendency are important.\n"
      ],
      "metadata": {
        "id": "9e-pXKYhp7sQ"
      }
    },
    {
      "cell_type": "markdown",
      "source": [
        "=>  1. Mean\n",
        "Example:\n",
        "If the marks are: 60, 70, 80, 90, 100\n",
        "Mean = (60 + 70 + 80 + 90 + 100) ÷ 5 = 80\n",
        "\n",
        "\n",
        "2. Median\n",
        "Definition:\n",
        "Example:\n",
        "Values: 10, 15, 20, 25, 30 → Median = 20 (middle value)\n",
        "Values: 10, 15, 20, 25 → Median = (15 + 20) ÷ 2 = 17.5\n",
        "\n",
        "\n",
        "3. Mode\n",
        "Data: 3, 5, 5, 7, 9 → Mode = 5 (it occurs twice)\n",
        "If no number repeats → No mode\n",
        "If multiple numbers repeat equally → It’s multimodal\n",
        "\n"
      ],
      "metadata": {
        "id": "WAs-3u9EqV-_"
      }
    },
    {
      "cell_type": "markdown",
      "source": [
        "Question 4: Explain skewness and kurtosis. What does a positive skew imply about the data?\n"
      ],
      "metadata": {
        "id": "qxXZ6EXOq8lQ"
      }
    },
    {
      "cell_type": "markdown",
      "source": [
        "=> 1. Skewness\n",
        "Skewness measures the asymmetry of a data distribution. It tells us whether the data is symmetrically distributed or tilted to one side.\n",
        "\n",
        "2. Kurtosis\n",
        "Kurtosis measures the \"tailedness\" or peakness of a distribution—how sharp or flat the peak is, and how heavy or light the tails are.\n",
        "\n"
      ],
      "metadata": {
        "id": "iRngg9tZq_HH"
      }
    },
    {
      "cell_type": "markdown",
      "source": [
        "Question 5: Implement a Python program to compute the mean, median, and mode of\n",
        "a given list of numbers.\n",
        "numbers = [12, 15, 12, 18, 19, 12, 20, 22, 19, 19, 24, 24, 24, 26, 28]"
      ],
      "metadata": {
        "id": "_WjLy-fJrvGq"
      }
    },
    {
      "cell_type": "code",
      "source": [
        "import statistics\n",
        "\n",
        "numbers = [12, 15, 12, 18, 19, 12, 20, 22, 19, 19, 24, 24, 24, 26, 28]\n",
        "\n",
        "mean_value = statistics.mean(numbers)\n",
        "\n",
        "median_value = statistics.median(numbers)\n",
        "\n",
        "mode_value = statistics.mode(numbers)\n",
        "\n",
        "print(\"Mean:\", mean_value)\n",
        "print(\"Median:\", median_value)\n",
        "print(\"Mode:\", mode_value)\n"
      ],
      "metadata": {
        "colab": {
          "base_uri": "https://localhost:8080/"
        },
        "id": "ioP-zW8xrwKY",
        "outputId": "98a9aa44-e4e5-41a3-a08e-5885d551454d"
      },
      "execution_count": 1,
      "outputs": [
        {
          "output_type": "stream",
          "name": "stdout",
          "text": [
            "Mean: 19.6\n",
            "Median: 19\n",
            "Mode: 12\n"
          ]
        }
      ]
    },
    {
      "cell_type": "markdown",
      "source": [
        "Question 6: Compute the covariance and correlation coefficient between the following\n",
        "two datasets provided as lists in Python:\n",
        "list_x = [10, 20, 30, 40, 50]\n",
        "list_y = [15, 25, 35, 45, 60]\n"
      ],
      "metadata": {
        "id": "OxC5DGJvsKSP"
      }
    },
    {
      "cell_type": "code",
      "source": [
        "import numpy as np\n",
        "\n",
        "list_x = [10, 20, 30, 40, 50]\n",
        "list_y = [15, 25, 35, 45, 60]\n",
        "\n",
        "x = np.array(list_x)\n",
        "y = np.array(list_y)\n",
        "\n",
        "cov_matrix = np.cov(x, y, bias=False)\n",
        "covariance = cov_matrix[0, 1]\n",
        "\n",
        "correlation = np.corrcoef(x, y)[0, 1]\n",
        "\n",
        "print(\"Covariance:\", covariance)\n",
        "print(\"Correlation Coefficient:\", correlation)\n"
      ],
      "metadata": {
        "colab": {
          "base_uri": "https://localhost:8080/"
        },
        "id": "YcRNsMRXsMUi",
        "outputId": "a66b22ce-bd4d-4e97-ecee-662b7fab0d31"
      },
      "execution_count": 2,
      "outputs": [
        {
          "output_type": "stream",
          "name": "stdout",
          "text": [
            "Covariance: 275.0\n",
            "Correlation Coefficient: 0.995893206467704\n"
          ]
        }
      ]
    },
    {
      "cell_type": "markdown",
      "source": [
        "Question 7: Write a Python script to draw a boxplot for the following numeric list and\n",
        "identify its outliers. Explain the result:\n",
        "data = [12, 14, 14, 15, 18, 19, 19, 21, 22, 22, 23, 23, 24, 26, 29, 35]"
      ],
      "metadata": {
        "id": "0RcjuybKs9hy"
      }
    },
    {
      "cell_type": "code",
      "source": [
        "import matplotlib.pyplot as plt\n",
        "\n",
        "# Given data\n",
        "data = [12, 14, 14, 15, 18, 19, 19, 21, 22, 22, 23, 23, 24, 26, 29, 35]\n",
        "\n",
        "# Create a boxplot\n",
        "plt.boxplot(data, vert=False)\n",
        "plt.title(\"Boxplot of the Given Data\")\n",
        "plt.xlabel(\"Value\")\n",
        "plt.grid(True)\n",
        "plt.show()\n",
        "\n",
        "\n",
        "\n",
        "import numpy as np\n",
        "\n",
        "data_np = np.array(data)\n",
        "\n",
        "Q1 = np.percentile(data_np, 25)\n",
        "Q3 = np.percentile(data_np, 75)\n",
        "\n",
        "IQR = Q3 - Q1\n",
        "\n",
        "lower_bound = Q1 - 1.5 * IQR\n",
        "upper_bound = Q3 + 1.5 * IQR\n",
        "\n",
        "outliers = data_np[(data_np < lower_bound) | (data_np > upper_bound)]\n",
        "\n",
        "print(\"Q1:\", Q1)\n",
        "print(\"Q3:\", Q3)\n",
        "print(\"IQR:\", IQR)\n",
        "print(\"Lower Bound:\", lower_bound)\n",
        "print(\"Upper Bound:\", upper_bound)\n",
        "print(\"Outliers:\", outliers)\n"
      ],
      "metadata": {
        "colab": {
          "base_uri": "https://localhost:8080/",
          "height": 576
        },
        "id": "sXKtXxtVs_dO",
        "outputId": "c4014df4-cd2e-48dc-f7e3-32142b593460"
      },
      "execution_count": 4,
      "outputs": [
        {
          "output_type": "display_data",
          "data": {
            "text/plain": [
              "<Figure size 640x480 with 1 Axes>"
            ],
            "image/png": "[encoded data removed]"
          },
          "metadata": {}
        },
        {
          "output_type": "stream",
          "name": "stdout",
          "text": [
            "Q1: 17.25\n",
            "Q3: 23.25\n",
            "IQR: 6.0\n",
            "Lower Bound: 8.25\n",
            "Upper Bound: 32.25\n",
            "Outliers: [35]\n"
          ]
        }
      ]
    },
    {
      "cell_type": "markdown",
      "source": [
        "Question 8: You are working as a data analyst in an e-commerce company. The\n",
        "marketing team wants to know if there is a relationship between advertising spend and\n",
        "daily sales.\n",
        "● Explain how you would use covariance and correlation to explore this\n",
        "relationship.\n",
        "● Write Python code to compute the correlation between the two lists:\n",
        "advertising_spend = [200, 250, 300, 400, 500]\n",
        "daily_sales = [2200, 2450, 2750, 3200, 4000]\n"
      ],
      "metadata": {
        "id": "RPUCRH7PtR2B"
      }
    },
    {
      "cell_type": "code",
      "source": [
        "import numpy as np\n",
        "\n",
        "advertising_spend = [200, 250, 300, 400, 500]\n",
        "daily_sales = [2200, 2450, 2750, 3200, 4000]\n",
        "\n",
        "ad = np.array(advertising_spend)\n",
        "sales = np.array(daily_sales)\n",
        "\n",
        "cov_matrix = np.cov(ad, sales, bias=False)\n",
        "covariance = cov_matrix[0, 1]\n",
        "\n",
        "correlation = np.corrcoef(ad, sales)[0, 1]\n",
        "\n",
        "print(\"Covariance:\", covariance)\n",
        "print(\"Correlation Coefficient:\", correlation)\n"
      ],
      "metadata": {
        "colab": {
          "base_uri": "https://localhost:8080/"
        },
        "id": "xoRFT-CjtS_u",
        "outputId": "7bf02013-7b9a-441f-a039-0f5040a0d155"
      },
      "execution_count": 5,
      "outputs": [
        {
          "output_type": "stream",
          "name": "stdout",
          "text": [
            "Covariance: 84875.0\n",
            "Correlation Coefficient: 0.9935824101653329\n"
          ]
        }
      ]
    },
    {
      "cell_type": "markdown",
      "source": [
        "Question 9: Your team has collected customer satisfaction survey data on a scale of\n",
        "1-10 and wants to understand its distribution before launching a new product.\n",
        "● Explain which summary statistics and visualizations (e.g. mean, standard\n",
        "deviation, histogram) you’d use.\n",
        "● Write Python code to create a histogram using Matplotlib for the survey data:\n",
        "survey_scores = [7, 8, 5, 9, 6, 7, 8, 9, 10, 4, 7, 6, 9, 8, 7]\n"
      ],
      "metadata": {
        "id": "QPT5M-s1tf1e"
      }
    },
    {
      "cell_type": "code",
      "source": [
        "import matplotlib.pyplot as plt\n",
        "import numpy as np\n",
        "import statistics\n",
        "\n",
        "survey_scores = [7, 8, 5, 9, 6, 7, 8, 9, 10, 4, 7, 6, 9, 8, 7]\n",
        "\n",
        "mean_score = statistics.mean(survey_scores)\n",
        "std_dev = statistics.stdev(survey_scores)\n",
        "median_score = statistics.median(survey_scores)\n",
        "mode_score = statistics.mode(survey_scores)\n",
        "\n",
        "print(\"Mean:\", mean_score)\n",
        "print(\"Median:\", median_score)\n",
        "print(\"Mode:\", mode_score)\n",
        "print(\"Standard Deviation:\", std_dev)\n",
        "\n",
        "plt.hist(survey_scores, bins=range(4, 12), edgecolor='black', color='skyblue')\n",
        "plt.title(\"Customer Satisfaction Survey Distribution\")\n",
        "plt.xlabel(\"Satisfaction Score (1–10)\")\n",
        "plt.ylabel(\"Number of Customers\")\n",
        "plt.grid(True)\n",
        "plt.xticks(range(4, 11))\n",
        "plt.show()\n"
      ],
      "metadata": {
        "colab": {
          "base_uri": "https://localhost:8080/",
          "height": 541
        },
        "id": "EkTolkdRtnYa",
        "outputId": "5df7e63c-7fbf-4969-90e3-72805013bedc"
      },
      "execution_count": 6,
      "outputs": [
        {
          "output_type": "stream",
          "name": "stdout",
          "text": [
            "Mean: 7.333333333333333\n",
            "Median: 7\n",
            "Mode: 7\n",
            "Standard Deviation: 1.632993161855452\n"
          ]
        },
        {
          "output_type": "display_data",
          "data": {
            "text/plain": [
              "<Figure size 640x480 with 1 Axes>"
            ],
            "image/png": "[encoded data removed]"
          },
          "metadata": {}
        }
      ]
    }
  ]
}